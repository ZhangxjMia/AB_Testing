{
  "nbformat": 4,
  "nbformat_minor": 0,
  "metadata": {
    "kernelspec": {
      "display_name": "Python 3",
      "language": "python",
      "name": "python3"
    },
    "language_info": {
      "codemirror_mode": {
        "name": "ipython",
        "version": 3
      },
      "file_extension": ".py",
      "mimetype": "text/x-python",
      "name": "python",
      "nbconvert_exporter": "python",
      "pygments_lexer": "ipython3",
      "version": "3.7.4"
    },
    "colab": {
      "name": "website_transaltion_abtest.ipynb",
      "provenance": [],
      "include_colab_link": true
    }
  },
  "cells": [
    {
      "cell_type": "markdown",
      "metadata": {
        "id": "view-in-github",
        "colab_type": "text"
      },
      "source": [
        "<a href=\"https://colab.research.google.com/github/ZhangxjMia/AB_Testing/blob/main/website_transaltion_abtest.ipynb\" target=\"_parent\"><img src=\"https://colab.research.google.com/assets/colab-badge.svg\" alt=\"Open In Colab\"/></a>"
      ]
    },
    {
      "cell_type": "markdown",
      "metadata": {
        "id": "z2fVlkQUQ589"
      },
      "source": [
        "# Website Translation - Project Description\n",
        "\n",
        "Company XYZ is a worldwide e-commerce site with localized versions of the site. A data scientist at XYZ noticed that **Spain-based users have a much higher conversion rate than any other Spanish-speaking country**.\n",
        "\n",
        "Spain and LatAm country manager suggested that one reason could be translation. All Spanish-speaking countries had the same translation of the site which was written by a Spaniard. Therefore, they agreed to try a test where each country would have its own translation written by a local. That is, Argentinian users would see a translation written by an Argentinian, Mexican users written by a Mexican and so on. Obviously, nothing would change for users from Spain.\n",
        "\n",
        "After they run the test however, they are really surprised because the test is negative. That is, it appears that the non-highly localized translation was doing better!"
      ]
    },
    {
      "cell_type": "markdown",
      "metadata": {
        "id": "R7BUvz_MQ59C"
      },
      "source": [
        "## Problem to be solved\n",
        "1. *Confirm* that test is actually negative. i.e., the old version of the site with just one translation across Spain and LatAm performs better\n",
        "2. *Explain* why that might be happening. Are the localized translations really worse?\n",
        "3. If you identified what was wrong, *design an algorithm* that would return FALSE if the same problem is happening in the future and TRUE if everything is good and results can be trusted."
      ]
    },
    {
      "cell_type": "markdown",
      "metadata": {
        "id": "4f5Kw3OwQ59D"
      },
      "source": [
        "## Dataset: test_table & user_table\n",
        "> \"test_table\" - general information about the test results.\n",
        "\n",
        "**Columns:**\n",
        "\n",
        "* **user_id** : the id of the user. Unique by user. Can be joined to user id in the other table. For each user, we just check whether conversion happens the first time they land on the site since the test started.\n",
        "* **date** : when they came to the site for the first time since the test started\n",
        "* **source** : marketing channel: *Ads, SEO, Direct* . *Direct* means everything except for ads and SEO. Such as directly typing site URL on the browser, downloading the app w/o coming from SEO or Ads, referral friend, etc.\n",
        "* **device** : device used by the user. It can be mobile or web\n",
        "* **browser_language** : in browser or app settings, the language chosen by the user. It can be *EN, ES, Other* (Other means any language except for English and Spanish)\n",
        "* **ads_channel** : if marketing channel is ads, this is the site where the ad was displayed. It can be: *Google, Facebook, Bing, Yahoo ,Other*. If the user didn't come via an ad, this field is NA\n",
        "* **browser** : user browser. It can be: *IE, Chrome, Android_App, FireFox, Iphone_App, Safari, Opera\n",
        "* **conversion** : whether the user converted (1) or not (0). This is our label. A test is considered successful if it increases the proportion of users who convert.\n",
        "* **test** : users are randomly split into test (1) and control (0). Test users see the new translation and control the old one. For Spain-based users, this is obviously always 0 since there is no change there.\n",
        "\n",
        "> \"user_table\" - some information about the user\n",
        "\n",
        "**Columns:**\n",
        "\n",
        "* **user_id** : the id of the user. It can be joined to user id in the other table **sex** : user sex: Male or Female\n",
        "* **age** : user age (self-reported)\n",
        "* **country** : user country based on ip address"
      ]
    },
    {
      "cell_type": "markdown",
      "metadata": {
        "id": "_OJxV_kQQ59D"
      },
      "source": [
        "## Project Key Points\n",
        "A key assumption of the A/B test is that the only difference between the treatment group and the control group is the feature we are testing, which means that the treatment group and the control group are comparable in user distribution. If this is true, then we can accurately estimate the impact of feature changes on any metrics of our experiment.\n",
        "\n",
        "Comparability: The user distribution of the treatment group and the control group means that for each relevant market, the relative proportions of users in the treatment group and the control group are similar, that is, if the US users are 10% of the users in the treatment, We hope that the proportion of American users in the control group is 10%.\n",
        "\n",
        "From a statistical point of view, the above situation is correct among enough users. In the a/b test, we are looking for a very small gain, so the sample size needs to be as large as possible to ensure that the distribution of the treatment group and the control group are the same.\n",
        "\n",
        "Therefore, before performing statistical tests, it is extremely important to check whether the distribution of the treatment group and the control group are similar."
      ]
    },
    {
      "cell_type": "markdown",
      "metadata": {
        "id": "r3UVZq2QQ59E"
      },
      "source": [
        "# Data Pre-processing"
      ]
    },
    {
      "cell_type": "code",
      "metadata": {
        "id": "qUSFSUwjQ59E"
      },
      "source": [
        "import pandas as pd\n",
        "pd.set_option('display.max_columns', 20)\n",
        "pd.set_option('display.width', 350)\n",
        "\n",
        "from IPython.core.interactiveshell import InteractiveShell\n",
        "InteractiveShell.ast_node_interactivity = \"all\""
      ],
      "execution_count": null,
      "outputs": []
    },
    {
      "cell_type": "code",
      "metadata": {
        "id": "6zx34rFzQ59F"
      },
      "source": [
        "# Load data\n",
        "user = pd.read_csv(\"user_table.csv\")\n",
        "test = pd.read_csv('test_table.csv')"
      ],
      "execution_count": null,
      "outputs": []
    },
    {
      "cell_type": "code",
      "metadata": {
        "id": "-OE7uyX9Q59F",
        "outputId": "e00ee698-ffc1-4b00-8306-59a65d1375e4"
      },
      "source": [
        "print(\"User table's shape: \", user.shape)\n",
        "print(\"Test table's shape: \", test.shape)"
      ],
      "execution_count": null,
      "outputs": [
        {
          "output_type": "stream",
          "text": [
            "User table's shape:  (452867, 4)\n",
            "Test table's shape:  (453321, 9)\n"
          ],
          "name": "stdout"
        }
      ]
    },
    {
      "cell_type": "code",
      "metadata": {
        "id": "MsSQC2BrQ59G",
        "outputId": "e7876e17-d3f1-487a-f19a-b80ea593787a"
      },
      "source": [
        "user.head()\n",
        "test.head()"
      ],
      "execution_count": null,
      "outputs": [
        {
          "output_type": "execute_result",
          "data": {
            "text/html": [
              "<div>\n",
              "<style scoped>\n",
              "    .dataframe tbody tr th:only-of-type {\n",
              "        vertical-align: middle;\n",
              "    }\n",
              "\n",
              "    .dataframe tbody tr th {\n",
              "        vertical-align: top;\n",
              "    }\n",
              "\n",
              "    .dataframe thead th {\n",
              "        text-align: right;\n",
              "    }\n",
              "</style>\n",
              "<table border=\"1\" class=\"dataframe\">\n",
              "  <thead>\n",
              "    <tr style=\"text-align: right;\">\n",
              "      <th></th>\n",
              "      <th>user_id</th>\n",
              "      <th>sex</th>\n",
              "      <th>age</th>\n",
              "      <th>country</th>\n",
              "    </tr>\n",
              "  </thead>\n",
              "  <tbody>\n",
              "    <tr>\n",
              "      <td>0</td>\n",
              "      <td>765821</td>\n",
              "      <td>M</td>\n",
              "      <td>20</td>\n",
              "      <td>Mexico</td>\n",
              "    </tr>\n",
              "    <tr>\n",
              "      <td>1</td>\n",
              "      <td>343561</td>\n",
              "      <td>F</td>\n",
              "      <td>27</td>\n",
              "      <td>Nicaragua</td>\n",
              "    </tr>\n",
              "    <tr>\n",
              "      <td>2</td>\n",
              "      <td>118744</td>\n",
              "      <td>M</td>\n",
              "      <td>23</td>\n",
              "      <td>Colombia</td>\n",
              "    </tr>\n",
              "    <tr>\n",
              "      <td>3</td>\n",
              "      <td>987753</td>\n",
              "      <td>F</td>\n",
              "      <td>27</td>\n",
              "      <td>Venezuela</td>\n",
              "    </tr>\n",
              "    <tr>\n",
              "      <td>4</td>\n",
              "      <td>554597</td>\n",
              "      <td>F</td>\n",
              "      <td>20</td>\n",
              "      <td>Spain</td>\n",
              "    </tr>\n",
              "  </tbody>\n",
              "</table>\n",
              "</div>"
            ],
            "text/plain": [
              "   user_id sex  age    country\n",
              "0   765821   M   20     Mexico\n",
              "1   343561   F   27  Nicaragua\n",
              "2   118744   M   23   Colombia\n",
              "3   987753   F   27  Venezuela\n",
              "4   554597   F   20      Spain"
            ]
          },
          "metadata": {
            "tags": []
          },
          "execution_count": 4
        },
        {
          "output_type": "execute_result",
          "data": {
            "text/html": [
              "<div>\n",
              "<style scoped>\n",
              "    .dataframe tbody tr th:only-of-type {\n",
              "        vertical-align: middle;\n",
              "    }\n",
              "\n",
              "    .dataframe tbody tr th {\n",
              "        vertical-align: top;\n",
              "    }\n",
              "\n",
              "    .dataframe thead th {\n",
              "        text-align: right;\n",
              "    }\n",
              "</style>\n",
              "<table border=\"1\" class=\"dataframe\">\n",
              "  <thead>\n",
              "    <tr style=\"text-align: right;\">\n",
              "      <th></th>\n",
              "      <th>user_id</th>\n",
              "      <th>date</th>\n",
              "      <th>source</th>\n",
              "      <th>device</th>\n",
              "      <th>browser_language</th>\n",
              "      <th>ads_channel</th>\n",
              "      <th>browser</th>\n",
              "      <th>conversion</th>\n",
              "      <th>test</th>\n",
              "    </tr>\n",
              "  </thead>\n",
              "  <tbody>\n",
              "    <tr>\n",
              "      <td>0</td>\n",
              "      <td>315281</td>\n",
              "      <td>2015-12-03</td>\n",
              "      <td>Direct</td>\n",
              "      <td>Web</td>\n",
              "      <td>ES</td>\n",
              "      <td>NaN</td>\n",
              "      <td>IE</td>\n",
              "      <td>1</td>\n",
              "      <td>0</td>\n",
              "    </tr>\n",
              "    <tr>\n",
              "      <td>1</td>\n",
              "      <td>497851</td>\n",
              "      <td>2015-12-04</td>\n",
              "      <td>Ads</td>\n",
              "      <td>Web</td>\n",
              "      <td>ES</td>\n",
              "      <td>Google</td>\n",
              "      <td>IE</td>\n",
              "      <td>0</td>\n",
              "      <td>1</td>\n",
              "    </tr>\n",
              "    <tr>\n",
              "      <td>2</td>\n",
              "      <td>848402</td>\n",
              "      <td>2015-12-04</td>\n",
              "      <td>Ads</td>\n",
              "      <td>Web</td>\n",
              "      <td>ES</td>\n",
              "      <td>Facebook</td>\n",
              "      <td>Chrome</td>\n",
              "      <td>0</td>\n",
              "      <td>0</td>\n",
              "    </tr>\n",
              "    <tr>\n",
              "      <td>3</td>\n",
              "      <td>290051</td>\n",
              "      <td>2015-12-03</td>\n",
              "      <td>Ads</td>\n",
              "      <td>Mobile</td>\n",
              "      <td>Other</td>\n",
              "      <td>Facebook</td>\n",
              "      <td>Android_App</td>\n",
              "      <td>0</td>\n",
              "      <td>1</td>\n",
              "    </tr>\n",
              "    <tr>\n",
              "      <td>4</td>\n",
              "      <td>548435</td>\n",
              "      <td>2015-11-30</td>\n",
              "      <td>Ads</td>\n",
              "      <td>Web</td>\n",
              "      <td>ES</td>\n",
              "      <td>Google</td>\n",
              "      <td>FireFox</td>\n",
              "      <td>0</td>\n",
              "      <td>1</td>\n",
              "    </tr>\n",
              "  </tbody>\n",
              "</table>\n",
              "</div>"
            ],
            "text/plain": [
              "   user_id        date  source  device browser_language ads_channel      browser  conversion  test\n",
              "0   315281  2015-12-03  Direct     Web               ES         NaN           IE           1     0\n",
              "1   497851  2015-12-04     Ads     Web               ES      Google           IE           0     1\n",
              "2   848402  2015-12-04     Ads     Web               ES    Facebook       Chrome           0     0\n",
              "3   290051  2015-12-03     Ads  Mobile            Other    Facebook  Android_App           0     1\n",
              "4   548435  2015-11-30     Ads     Web               ES      Google      FireFox           0     1"
            ]
          },
          "metadata": {
            "tags": []
          },
          "execution_count": 4
        }
      ]
    },
    {
      "cell_type": "code",
      "metadata": {
        "id": "mWQCBC6rQ59G",
        "outputId": "3efbee15-9d7b-4261-84c2-ea8c94df3002"
      },
      "source": [
        "# Check if two tables have duplicate data\n",
        "user['user_id'].nunique() == len(user['user_id'])\n",
        "test['user_id'].nunique() == len(test['user_id'])"
      ],
      "execution_count": null,
      "outputs": [
        {
          "output_type": "execute_result",
          "data": {
            "text/plain": [
              "True"
            ]
          },
          "metadata": {
            "tags": []
          },
          "execution_count": 5
        },
        {
          "output_type": "execute_result",
          "data": {
            "text/plain": [
              "True"
            ]
          },
          "metadata": {
            "tags": []
          },
          "execution_count": 5
        }
      ]
    },
    {
      "cell_type": "code",
      "metadata": {
        "id": "700jWzj0Q59G",
        "outputId": "7fe6257d-0b17-4b92-9de7-15d95f96e25d"
      },
      "source": [
        "len(user['user_id']) - len(test['user_id'])"
      ],
      "execution_count": null,
      "outputs": [
        {
          "output_type": "execute_result",
          "data": {
            "text/plain": [
              "-454"
            ]
          },
          "metadata": {
            "tags": []
          },
          "execution_count": 6
        }
      ]
    },
    {
      "cell_type": "code",
      "metadata": {
        "id": "JgEgLDa0Q59H",
        "outputId": "c7f12efc-c63d-44e9-e092-4e59077e1fd4"
      },
      "source": [
        "# There are some user_id missing in user table but relatively small, so we could user join to remove those data.\n",
        "mydata = test.merge(user, on = ['user_id'])\n",
        "\n",
        "mydata.head()\n",
        "mydata.describe().T\n",
        "mydata.info()"
      ],
      "execution_count": null,
      "outputs": [
        {
          "output_type": "execute_result",
          "data": {
            "text/html": [
              "<div>\n",
              "<style scoped>\n",
              "    .dataframe tbody tr th:only-of-type {\n",
              "        vertical-align: middle;\n",
              "    }\n",
              "\n",
              "    .dataframe tbody tr th {\n",
              "        vertical-align: top;\n",
              "    }\n",
              "\n",
              "    .dataframe thead th {\n",
              "        text-align: right;\n",
              "    }\n",
              "</style>\n",
              "<table border=\"1\" class=\"dataframe\">\n",
              "  <thead>\n",
              "    <tr style=\"text-align: right;\">\n",
              "      <th></th>\n",
              "      <th>user_id</th>\n",
              "      <th>date</th>\n",
              "      <th>source</th>\n",
              "      <th>device</th>\n",
              "      <th>browser_language</th>\n",
              "      <th>ads_channel</th>\n",
              "      <th>browser</th>\n",
              "      <th>conversion</th>\n",
              "      <th>test</th>\n",
              "      <th>sex</th>\n",
              "      <th>age</th>\n",
              "      <th>country</th>\n",
              "    </tr>\n",
              "  </thead>\n",
              "  <tbody>\n",
              "    <tr>\n",
              "      <td>0</td>\n",
              "      <td>315281</td>\n",
              "      <td>2015-12-03</td>\n",
              "      <td>Direct</td>\n",
              "      <td>Web</td>\n",
              "      <td>ES</td>\n",
              "      <td>NaN</td>\n",
              "      <td>IE</td>\n",
              "      <td>1</td>\n",
              "      <td>0</td>\n",
              "      <td>M</td>\n",
              "      <td>32</td>\n",
              "      <td>Spain</td>\n",
              "    </tr>\n",
              "    <tr>\n",
              "      <td>1</td>\n",
              "      <td>497851</td>\n",
              "      <td>2015-12-04</td>\n",
              "      <td>Ads</td>\n",
              "      <td>Web</td>\n",
              "      <td>ES</td>\n",
              "      <td>Google</td>\n",
              "      <td>IE</td>\n",
              "      <td>0</td>\n",
              "      <td>1</td>\n",
              "      <td>M</td>\n",
              "      <td>21</td>\n",
              "      <td>Mexico</td>\n",
              "    </tr>\n",
              "    <tr>\n",
              "      <td>2</td>\n",
              "      <td>848402</td>\n",
              "      <td>2015-12-04</td>\n",
              "      <td>Ads</td>\n",
              "      <td>Web</td>\n",
              "      <td>ES</td>\n",
              "      <td>Facebook</td>\n",
              "      <td>Chrome</td>\n",
              "      <td>0</td>\n",
              "      <td>0</td>\n",
              "      <td>M</td>\n",
              "      <td>34</td>\n",
              "      <td>Spain</td>\n",
              "    </tr>\n",
              "    <tr>\n",
              "      <td>3</td>\n",
              "      <td>290051</td>\n",
              "      <td>2015-12-03</td>\n",
              "      <td>Ads</td>\n",
              "      <td>Mobile</td>\n",
              "      <td>Other</td>\n",
              "      <td>Facebook</td>\n",
              "      <td>Android_App</td>\n",
              "      <td>0</td>\n",
              "      <td>1</td>\n",
              "      <td>F</td>\n",
              "      <td>22</td>\n",
              "      <td>Mexico</td>\n",
              "    </tr>\n",
              "    <tr>\n",
              "      <td>4</td>\n",
              "      <td>548435</td>\n",
              "      <td>2015-11-30</td>\n",
              "      <td>Ads</td>\n",
              "      <td>Web</td>\n",
              "      <td>ES</td>\n",
              "      <td>Google</td>\n",
              "      <td>FireFox</td>\n",
              "      <td>0</td>\n",
              "      <td>1</td>\n",
              "      <td>M</td>\n",
              "      <td>19</td>\n",
              "      <td>Mexico</td>\n",
              "    </tr>\n",
              "  </tbody>\n",
              "</table>\n",
              "</div>"
            ],
            "text/plain": [
              "   user_id        date  source  device browser_language ads_channel      browser  conversion  test sex  age country\n",
              "0   315281  2015-12-03  Direct     Web               ES         NaN           IE           1     0   M   32   Spain\n",
              "1   497851  2015-12-04     Ads     Web               ES      Google           IE           0     1   M   21  Mexico\n",
              "2   848402  2015-12-04     Ads     Web               ES    Facebook       Chrome           0     0   M   34   Spain\n",
              "3   290051  2015-12-03     Ads  Mobile            Other    Facebook  Android_App           0     1   F   22  Mexico\n",
              "4   548435  2015-11-30     Ads     Web               ES      Google      FireFox           0     1   M   19  Mexico"
            ]
          },
          "metadata": {
            "tags": []
          },
          "execution_count": 7
        },
        {
          "output_type": "execute_result",
          "data": {
            "text/html": [
              "<div>\n",
              "<style scoped>\n",
              "    .dataframe tbody tr th:only-of-type {\n",
              "        vertical-align: middle;\n",
              "    }\n",
              "\n",
              "    .dataframe tbody tr th {\n",
              "        vertical-align: top;\n",
              "    }\n",
              "\n",
              "    .dataframe thead th {\n",
              "        text-align: right;\n",
              "    }\n",
              "</style>\n",
              "<table border=\"1\" class=\"dataframe\">\n",
              "  <thead>\n",
              "    <tr style=\"text-align: right;\">\n",
              "      <th></th>\n",
              "      <th>count</th>\n",
              "      <th>mean</th>\n",
              "      <th>std</th>\n",
              "      <th>min</th>\n",
              "      <th>25%</th>\n",
              "      <th>50%</th>\n",
              "      <th>75%</th>\n",
              "      <th>max</th>\n",
              "    </tr>\n",
              "  </thead>\n",
              "  <tbody>\n",
              "    <tr>\n",
              "      <td>user_id</td>\n",
              "      <td>452867.0</td>\n",
              "      <td>499944.805166</td>\n",
              "      <td>288676.264784</td>\n",
              "      <td>1.0</td>\n",
              "      <td>249819.0</td>\n",
              "      <td>500019.0</td>\n",
              "      <td>749543.0</td>\n",
              "      <td>1000000.0</td>\n",
              "    </tr>\n",
              "    <tr>\n",
              "      <td>conversion</td>\n",
              "      <td>452867.0</td>\n",
              "      <td>0.049560</td>\n",
              "      <td>0.217034</td>\n",
              "      <td>0.0</td>\n",
              "      <td>0.0</td>\n",
              "      <td>0.0</td>\n",
              "      <td>0.0</td>\n",
              "      <td>1.0</td>\n",
              "    </tr>\n",
              "    <tr>\n",
              "      <td>test</td>\n",
              "      <td>452867.0</td>\n",
              "      <td>0.476462</td>\n",
              "      <td>0.499446</td>\n",
              "      <td>0.0</td>\n",
              "      <td>0.0</td>\n",
              "      <td>0.0</td>\n",
              "      <td>1.0</td>\n",
              "      <td>1.0</td>\n",
              "    </tr>\n",
              "    <tr>\n",
              "      <td>age</td>\n",
              "      <td>452867.0</td>\n",
              "      <td>27.130740</td>\n",
              "      <td>6.776678</td>\n",
              "      <td>18.0</td>\n",
              "      <td>22.0</td>\n",
              "      <td>26.0</td>\n",
              "      <td>31.0</td>\n",
              "      <td>70.0</td>\n",
              "    </tr>\n",
              "  </tbody>\n",
              "</table>\n",
              "</div>"
            ],
            "text/plain": [
              "               count           mean            std   min       25%       50%       75%        max\n",
              "user_id     452867.0  499944.805166  288676.264784   1.0  249819.0  500019.0  749543.0  1000000.0\n",
              "conversion  452867.0       0.049560       0.217034   0.0       0.0       0.0       0.0        1.0\n",
              "test        452867.0       0.476462       0.499446   0.0       0.0       0.0       1.0        1.0\n",
              "age         452867.0      27.130740       6.776678  18.0      22.0      26.0      31.0       70.0"
            ]
          },
          "metadata": {
            "tags": []
          },
          "execution_count": 7
        },
        {
          "output_type": "stream",
          "text": [
            "<class 'pandas.core.frame.DataFrame'>\n",
            "Int64Index: 452867 entries, 0 to 452866\n",
            "Data columns (total 12 columns):\n",
            "user_id             452867 non-null int64\n",
            "date                452867 non-null object\n",
            "source              452867 non-null object\n",
            "device              452867 non-null object\n",
            "browser_language    452867 non-null object\n",
            "ads_channel         181693 non-null object\n",
            "browser             452867 non-null object\n",
            "conversion          452867 non-null int64\n",
            "test                452867 non-null int64\n",
            "sex                 452867 non-null object\n",
            "age                 452867 non-null int64\n",
            "country             452867 non-null object\n",
            "dtypes: int64(4), object(8)\n",
            "memory usage: 44.9+ MB\n"
          ],
          "name": "stdout"
        }
      ]
    },
    {
      "cell_type": "code",
      "metadata": {
        "id": "-nmZTF_EQ59H"
      },
      "source": [
        "# Convert date from object to datetime\n",
        "mydata['date'] = pd.to_datetime(mydata['date'])"
      ],
      "execution_count": null,
      "outputs": []
    },
    {
      "cell_type": "code",
      "metadata": {
        "id": "URdBCZazQ59H"
      },
      "source": [
        "# We need to confirm the original conversion rate of Spain is higher than Latin-America country\n",
        "\n",
        "country_conversion = mydata.query('test == 0').groupby(['country'])['conversion'].mean()\n",
        "country_conversion.sort_values(ascending = False)"
      ],
      "execution_count": null,
      "outputs": []
    },
    {
      "cell_type": "code",
      "metadata": {
        "id": "wBF2UoYtQ59H"
      },
      "source": [
        "# Since Spain doesn't change, so we can remove Spain\n",
        "mydata = mydata.query('country != \"Spain\"')"
      ],
      "execution_count": null,
      "outputs": []
    },
    {
      "cell_type": "code",
      "metadata": {
        "id": "9pZyBipeQ59N",
        "outputId": "73134224-60cf-4804-9a95-f131495eda85"
      },
      "source": [
        "mydata.groupby('test')['conversion'].mean()\n",
        "# The control group's conversion rate is higher than the treatment group"
      ],
      "execution_count": null,
      "outputs": [
        {
          "output_type": "execute_result",
          "data": {
            "text/plain": [
              "test\n",
              "0    0.048292\n",
              "1    0.043411\n",
              "Name: conversion, dtype: float64"
            ]
          },
          "metadata": {
            "tags": []
          },
          "execution_count": 11
        }
      ]
    },
    {
      "cell_type": "markdown",
      "metadata": {
        "id": "Y6qMSkywQ59N"
      },
      "source": [
        "### Compare two population mean: two sample t-test\n",
        "Situation Apply: two unrelated groups (sample size can be equal or not equal), test the difference of the mean."
      ]
    },
    {
      "cell_type": "markdown",
      "metadata": {
        "id": "AmTSIOMhQ59O"
      },
      "source": [
        "#### 1. Firstly we should confirm if the variance of two groups are equal, utilize levene test for equality of variances."
      ]
    },
    {
      "cell_type": "code",
      "metadata": {
        "id": "kPKteH26Q59O",
        "outputId": "48ca5c19-c2b3-42c5-bfe4-54bee9882948"
      },
      "source": [
        "from scipy import stats\n",
        "stats.levene(mydata[mydata['test'] == 1]['conversion'],\n",
        "             mydata[mydata['test'] == 0]['conversion'])"
      ],
      "execution_count": null,
      "outputs": [
        {
          "output_type": "execute_result",
          "data": {
            "text/plain": [
              "LeveneResult(statistic=54.497646998915, pvalue=1.5593292774404536e-13)"
            ]
          },
          "metadata": {
            "tags": []
          },
          "execution_count": 12
        }
      ]
    },
    {
      "cell_type": "markdown",
      "metadata": {
        "id": "9Rm9r5beQ59O"
      },
      "source": [
        "p-value < 0.05, the variances of two groups are not equal, so we need to set the equal_var parameter to \"False\"\n",
        "Notice:\n",
        "1. if two groups have equality of variance, make a mistake to set equal_var = False, then p-value will overstate.\n",
        "2. if two groups have unequality of variance, haven't set the equal_var to False (default is True). then p-value will understate."
      ]
    },
    {
      "cell_type": "code",
      "metadata": {
        "id": "UKCr5Kz_Q59O",
        "outputId": "05c01b29-1ca9-4b46-d0e2-30f4ba922a14"
      },
      "source": [
        "test_result = stats.ttest_ind(mydata[mydata['test'] == 1]['conversion'],\n",
        "                              mydata[mydata['test'] == 0]['conversion'],\n",
        "                              equal_var = False)\n",
        "test_result"
      ],
      "execution_count": null,
      "outputs": [
        {
          "output_type": "execute_result",
          "data": {
            "text/plain": [
              "Ttest_indResult(statistic=-7.353895203080277, pvalue=1.9289178577799033e-13)"
            ]
          },
          "metadata": {
            "tags": []
          },
          "execution_count": 13
        }
      ]
    },
    {
      "cell_type": "markdown",
      "metadata": {
        "id": "dq39tdDgQ59P"
      },
      "source": [
        "p-value < 0.05. we reject null hypothesis and conclude that the treatment and control group are significant difference.\n",
        "Possible Reasons:\n",
        "1. Sample size is too small.\n",
        "2. There are some error during experiment, so treatment and control are not randomly selected."
      ]
    },
    {
      "cell_type": "code",
      "metadata": {
        "id": "xPd8SidJQ59P",
        "outputId": "3b6f4db1-e342-4935-a0db-085ce69f7933"
      },
      "source": [
        "# Plot to see if the weird result happens constently or in sudden.\n",
        "import matplotlib.pyplot as plt\n",
        "# Compare daily conversion rate of treatment to control\n",
        "data_daily = mydata.groupby('date')['conversion'].agg([lambda x: \n",
        "                                                         x[mydata['test'] == 1].mean()\n",
        "                                                        /x[mydata['test'] == 0].mean()]).plot()\n",
        "plt.show()"
      ],
      "execution_count": null,
      "outputs": [
        {
          "output_type": "display_data",
          "data": {
            "text/plain": [
              "<Figure size 640x480 with 1 Axes>"
            ]
          },
          "metadata": {
            "tags": []
          }
        }
      ]
    },
    {
      "cell_type": "markdown",
      "metadata": {
        "id": "NxZQ0EvHQ59P"
      },
      "source": [
        "The treatment is always worse than control group, and has relative small difference in different date. This means we have enough sample size, but there are some error in experiment."
      ]
    },
    {
      "cell_type": "markdown",
      "metadata": {
        "id": "NpQ9Os_MQ59P"
      },
      "source": [
        "#### 2. Check if treatment and control have somilar distribution.\n",
        "To check if ABtest is effectively randomization means to confirm all the invariants in the treatment and control have same distribution. Take the first invariant for example: source. To check the porprotion of users from *Ads*, *SEO*, and *Direct* are the same."
      ]
    },
    {
      "cell_type": "code",
      "metadata": {
        "id": "8Px642uFQ59P",
        "outputId": "54ad95bc-81cf-445e-da14-d23a111deed5"
      },
      "source": [
        "# group by source and estimate relative frequencies\n",
        "data_source = mydata.groupby('source')['test'].agg(\n",
        "[lambda x: len(x[x == 0]),\n",
        " lambda x: len(x[x == 1])])\n",
        "\n",
        "data_source\n",
        "\n",
        "data_source_rate = data_source/data_source.sum()\n",
        "data_source_rate.rename(index = str, columns = {'<lambda_0>': 'freq_test_0', '<lambda_1>': 'freq_test_1'})"
      ],
      "execution_count": null,
      "outputs": [
        {
          "output_type": "execute_result",
          "data": {
            "text/html": [
              "<div>\n",
              "<style scoped>\n",
              "    .dataframe tbody tr th:only-of-type {\n",
              "        vertical-align: middle;\n",
              "    }\n",
              "\n",
              "    .dataframe tbody tr th {\n",
              "        vertical-align: top;\n",
              "    }\n",
              "\n",
              "    .dataframe thead th {\n",
              "        text-align: right;\n",
              "    }\n",
              "</style>\n",
              "<table border=\"1\" class=\"dataframe\">\n",
              "  <thead>\n",
              "    <tr style=\"text-align: right;\">\n",
              "      <th></th>\n",
              "      <th>&lt;lambda_0&gt;</th>\n",
              "      <th>&lt;lambda_1&gt;</th>\n",
              "    </tr>\n",
              "    <tr>\n",
              "      <th>source</th>\n",
              "      <th></th>\n",
              "      <th></th>\n",
              "    </tr>\n",
              "  </thead>\n",
              "  <tbody>\n",
              "    <tr>\n",
              "      <td>Ads</td>\n",
              "      <td>74352</td>\n",
              "      <td>86448</td>\n",
              "    </tr>\n",
              "    <tr>\n",
              "      <td>Direct</td>\n",
              "      <td>37238</td>\n",
              "      <td>43047</td>\n",
              "    </tr>\n",
              "    <tr>\n",
              "      <td>SEO</td>\n",
              "      <td>73721</td>\n",
              "      <td>86279</td>\n",
              "    </tr>\n",
              "  </tbody>\n",
              "</table>\n",
              "</div>"
            ],
            "text/plain": [
              "        <lambda_0>  <lambda_1>\n",
              "source                        \n",
              "Ads          74352       86448\n",
              "Direct       37238       43047\n",
              "SEO          73721       86279"
            ]
          },
          "metadata": {
            "tags": []
          },
          "execution_count": 15
        },
        {
          "output_type": "execute_result",
          "data": {
            "text/html": [
              "<div>\n",
              "<style scoped>\n",
              "    .dataframe tbody tr th:only-of-type {\n",
              "        vertical-align: middle;\n",
              "    }\n",
              "\n",
              "    .dataframe tbody tr th {\n",
              "        vertical-align: top;\n",
              "    }\n",
              "\n",
              "    .dataframe thead th {\n",
              "        text-align: right;\n",
              "    }\n",
              "</style>\n",
              "<table border=\"1\" class=\"dataframe\">\n",
              "  <thead>\n",
              "    <tr style=\"text-align: right;\">\n",
              "      <th></th>\n",
              "      <th>freq_test_0</th>\n",
              "      <th>freq_test_1</th>\n",
              "    </tr>\n",
              "    <tr>\n",
              "      <th>source</th>\n",
              "      <th></th>\n",
              "      <th></th>\n",
              "    </tr>\n",
              "  </thead>\n",
              "  <tbody>\n",
              "    <tr>\n",
              "      <td>Ads</td>\n",
              "      <td>0.401228</td>\n",
              "      <td>0.400641</td>\n",
              "    </tr>\n",
              "    <tr>\n",
              "      <td>Direct</td>\n",
              "      <td>0.200949</td>\n",
              "      <td>0.199500</td>\n",
              "    </tr>\n",
              "    <tr>\n",
              "      <td>SEO</td>\n",
              "      <td>0.397823</td>\n",
              "      <td>0.399858</td>\n",
              "    </tr>\n",
              "  </tbody>\n",
              "</table>\n",
              "</div>"
            ],
            "text/plain": [
              "        freq_test_0  freq_test_1\n",
              "source                          \n",
              "Ads        0.401228     0.400641\n",
              "Direct     0.200949     0.199500\n",
              "SEO        0.397823     0.399858"
            ]
          },
          "metadata": {
            "tags": []
          },
          "execution_count": 15
        }
      ]
    },
    {
      "cell_type": "markdown",
      "metadata": {
        "id": "C2mHiobgQ59Q"
      },
      "source": [
        "As we can see, the relative frequencies for different sources are same, which means the proportion of users from these sources are the same. We can continue to check invariants like this, but it's time-consuming."
      ]
    },
    {
      "cell_type": "markdown",
      "metadata": {
        "id": "xXNrsOZmQ59Q"
      },
      "source": [
        "#### 3. Easy Method: remove conversion, only check if user distribution in these two groups are the same.\n",
        "\n",
        "* Use 'test' vaeiable as our label and try to build a model to separate test == 0 and test == 1. If randomization in ABtest is good, no model can separate it since these two groups are similar. If randomization in ABtest is not good, this model will separate two groups using given variable.\n",
        "* Choose Decision Tree as the model. It can clear show which variable is used to split. This is why randomization fails in AB Test."
      ]
    },
    {
      "cell_type": "code",
      "metadata": {
        "id": "CugXw-sIQ59Q",
        "outputId": "2fafb208-6556-443d-b50c-ac8942e76b3e"
      },
      "source": [
        "import graphviz\n",
        "from sklearn.tree import DecisionTreeClassifier\n",
        "from sklearn.tree import export_graphviz\n",
        "from graphviz import Source\n",
        "from sklearn import tree\n",
        "\n",
        "# Convert date to string, easy to convert to dummy variable\n",
        "mydata['date'] = mydata['date'].apply(str)\n",
        "\n",
        "data_dummy = pd.get_dummies(mydata)\n",
        "data_dummy\n",
        "\n",
        "# Remove conversion, now 'test' is the lable\n",
        "train_cols = data_dummy.drop(['test', 'conversion'], axis = 1)\n",
        "train_cols"
      ],
      "execution_count": null,
      "outputs": [
        {
          "output_type": "execute_result",
          "data": {
            "text/html": [
              "<div>\n",
              "<style scoped>\n",
              "    .dataframe tbody tr th:only-of-type {\n",
              "        vertical-align: middle;\n",
              "    }\n",
              "\n",
              "    .dataframe tbody tr th {\n",
              "        vertical-align: top;\n",
              "    }\n",
              "\n",
              "    .dataframe thead th {\n",
              "        text-align: right;\n",
              "    }\n",
              "</style>\n",
              "<table border=\"1\" class=\"dataframe\">\n",
              "  <thead>\n",
              "    <tr style=\"text-align: right;\">\n",
              "      <th></th>\n",
              "      <th>user_id</th>\n",
              "      <th>conversion</th>\n",
              "      <th>test</th>\n",
              "      <th>age</th>\n",
              "      <th>date_2015-11-30 00:00:00</th>\n",
              "      <th>date_2015-12-01 00:00:00</th>\n",
              "      <th>date_2015-12-02 00:00:00</th>\n",
              "      <th>date_2015-12-03 00:00:00</th>\n",
              "      <th>date_2015-12-04 00:00:00</th>\n",
              "      <th>source_Ads</th>\n",
              "      <th>...</th>\n",
              "      <th>country_El Salvador</th>\n",
              "      <th>country_Guatemala</th>\n",
              "      <th>country_Honduras</th>\n",
              "      <th>country_Mexico</th>\n",
              "      <th>country_Nicaragua</th>\n",
              "      <th>country_Panama</th>\n",
              "      <th>country_Paraguay</th>\n",
              "      <th>country_Peru</th>\n",
              "      <th>country_Uruguay</th>\n",
              "      <th>country_Venezuela</th>\n",
              "    </tr>\n",
              "  </thead>\n",
              "  <tbody>\n",
              "    <tr>\n",
              "      <td>1</td>\n",
              "      <td>497851</td>\n",
              "      <td>0</td>\n",
              "      <td>1</td>\n",
              "      <td>21</td>\n",
              "      <td>0</td>\n",
              "      <td>0</td>\n",
              "      <td>0</td>\n",
              "      <td>0</td>\n",
              "      <td>1</td>\n",
              "      <td>1</td>\n",
              "      <td>...</td>\n",
              "      <td>0</td>\n",
              "      <td>0</td>\n",
              "      <td>0</td>\n",
              "      <td>1</td>\n",
              "      <td>0</td>\n",
              "      <td>0</td>\n",
              "      <td>0</td>\n",
              "      <td>0</td>\n",
              "      <td>0</td>\n",
              "      <td>0</td>\n",
              "    </tr>\n",
              "    <tr>\n",
              "      <td>3</td>\n",
              "      <td>290051</td>\n",
              "      <td>0</td>\n",
              "      <td>1</td>\n",
              "      <td>22</td>\n",
              "      <td>0</td>\n",
              "      <td>0</td>\n",
              "      <td>0</td>\n",
              "      <td>1</td>\n",
              "      <td>0</td>\n",
              "      <td>1</td>\n",
              "      <td>...</td>\n",
              "      <td>0</td>\n",
              "      <td>0</td>\n",
              "      <td>0</td>\n",
              "      <td>1</td>\n",
              "      <td>0</td>\n",
              "      <td>0</td>\n",
              "      <td>0</td>\n",
              "      <td>0</td>\n",
              "      <td>0</td>\n",
              "      <td>0</td>\n",
              "    </tr>\n",
              "    <tr>\n",
              "      <td>4</td>\n",
              "      <td>548435</td>\n",
              "      <td>0</td>\n",
              "      <td>1</td>\n",
              "      <td>19</td>\n",
              "      <td>1</td>\n",
              "      <td>0</td>\n",
              "      <td>0</td>\n",
              "      <td>0</td>\n",
              "      <td>0</td>\n",
              "      <td>1</td>\n",
              "      <td>...</td>\n",
              "      <td>0</td>\n",
              "      <td>0</td>\n",
              "      <td>0</td>\n",
              "      <td>1</td>\n",
              "      <td>0</td>\n",
              "      <td>0</td>\n",
              "      <td>0</td>\n",
              "      <td>0</td>\n",
              "      <td>0</td>\n",
              "      <td>0</td>\n",
              "    </tr>\n",
              "    <tr>\n",
              "      <td>5</td>\n",
              "      <td>540675</td>\n",
              "      <td>0</td>\n",
              "      <td>1</td>\n",
              "      <td>22</td>\n",
              "      <td>0</td>\n",
              "      <td>0</td>\n",
              "      <td>0</td>\n",
              "      <td>1</td>\n",
              "      <td>0</td>\n",
              "      <td>0</td>\n",
              "      <td>...</td>\n",
              "      <td>0</td>\n",
              "      <td>0</td>\n",
              "      <td>0</td>\n",
              "      <td>0</td>\n",
              "      <td>0</td>\n",
              "      <td>0</td>\n",
              "      <td>0</td>\n",
              "      <td>0</td>\n",
              "      <td>0</td>\n",
              "      <td>1</td>\n",
              "    </tr>\n",
              "    <tr>\n",
              "      <td>6</td>\n",
              "      <td>863394</td>\n",
              "      <td>0</td>\n",
              "      <td>0</td>\n",
              "      <td>35</td>\n",
              "      <td>0</td>\n",
              "      <td>0</td>\n",
              "      <td>0</td>\n",
              "      <td>0</td>\n",
              "      <td>1</td>\n",
              "      <td>0</td>\n",
              "      <td>...</td>\n",
              "      <td>0</td>\n",
              "      <td>0</td>\n",
              "      <td>0</td>\n",
              "      <td>1</td>\n",
              "      <td>0</td>\n",
              "      <td>0</td>\n",
              "      <td>0</td>\n",
              "      <td>0</td>\n",
              "      <td>0</td>\n",
              "      <td>0</td>\n",
              "    </tr>\n",
              "    <tr>\n",
              "      <td>...</td>\n",
              "      <td>...</td>\n",
              "      <td>...</td>\n",
              "      <td>...</td>\n",
              "      <td>...</td>\n",
              "      <td>...</td>\n",
              "      <td>...</td>\n",
              "      <td>...</td>\n",
              "      <td>...</td>\n",
              "      <td>...</td>\n",
              "      <td>...</td>\n",
              "      <td>...</td>\n",
              "      <td>...</td>\n",
              "      <td>...</td>\n",
              "      <td>...</td>\n",
              "      <td>...</td>\n",
              "      <td>...</td>\n",
              "      <td>...</td>\n",
              "      <td>...</td>\n",
              "      <td>...</td>\n",
              "      <td>...</td>\n",
              "      <td>...</td>\n",
              "    </tr>\n",
              "    <tr>\n",
              "      <td>452861</td>\n",
              "      <td>783089</td>\n",
              "      <td>0</td>\n",
              "      <td>0</td>\n",
              "      <td>20</td>\n",
              "      <td>0</td>\n",
              "      <td>0</td>\n",
              "      <td>1</td>\n",
              "      <td>0</td>\n",
              "      <td>0</td>\n",
              "      <td>1</td>\n",
              "      <td>...</td>\n",
              "      <td>0</td>\n",
              "      <td>0</td>\n",
              "      <td>0</td>\n",
              "      <td>1</td>\n",
              "      <td>0</td>\n",
              "      <td>0</td>\n",
              "      <td>0</td>\n",
              "      <td>0</td>\n",
              "      <td>0</td>\n",
              "      <td>0</td>\n",
              "    </tr>\n",
              "    <tr>\n",
              "      <td>452862</td>\n",
              "      <td>425010</td>\n",
              "      <td>0</td>\n",
              "      <td>0</td>\n",
              "      <td>50</td>\n",
              "      <td>0</td>\n",
              "      <td>0</td>\n",
              "      <td>0</td>\n",
              "      <td>0</td>\n",
              "      <td>1</td>\n",
              "      <td>0</td>\n",
              "      <td>...</td>\n",
              "      <td>0</td>\n",
              "      <td>0</td>\n",
              "      <td>0</td>\n",
              "      <td>1</td>\n",
              "      <td>0</td>\n",
              "      <td>0</td>\n",
              "      <td>0</td>\n",
              "      <td>0</td>\n",
              "      <td>0</td>\n",
              "      <td>0</td>\n",
              "    </tr>\n",
              "    <tr>\n",
              "      <td>452863</td>\n",
              "      <td>826793</td>\n",
              "      <td>0</td>\n",
              "      <td>1</td>\n",
              "      <td>20</td>\n",
              "      <td>0</td>\n",
              "      <td>1</td>\n",
              "      <td>0</td>\n",
              "      <td>0</td>\n",
              "      <td>0</td>\n",
              "      <td>0</td>\n",
              "      <td>...</td>\n",
              "      <td>0</td>\n",
              "      <td>0</td>\n",
              "      <td>0</td>\n",
              "      <td>0</td>\n",
              "      <td>0</td>\n",
              "      <td>0</td>\n",
              "      <td>0</td>\n",
              "      <td>0</td>\n",
              "      <td>0</td>\n",
              "      <td>0</td>\n",
              "    </tr>\n",
              "    <tr>\n",
              "      <td>452865</td>\n",
              "      <td>785224</td>\n",
              "      <td>0</td>\n",
              "      <td>1</td>\n",
              "      <td>21</td>\n",
              "      <td>0</td>\n",
              "      <td>0</td>\n",
              "      <td>0</td>\n",
              "      <td>0</td>\n",
              "      <td>1</td>\n",
              "      <td>0</td>\n",
              "      <td>...</td>\n",
              "      <td>0</td>\n",
              "      <td>0</td>\n",
              "      <td>0</td>\n",
              "      <td>0</td>\n",
              "      <td>0</td>\n",
              "      <td>0</td>\n",
              "      <td>0</td>\n",
              "      <td>0</td>\n",
              "      <td>0</td>\n",
              "      <td>0</td>\n",
              "    </tr>\n",
              "    <tr>\n",
              "      <td>452866</td>\n",
              "      <td>241662</td>\n",
              "      <td>0</td>\n",
              "      <td>1</td>\n",
              "      <td>27</td>\n",
              "      <td>0</td>\n",
              "      <td>0</td>\n",
              "      <td>0</td>\n",
              "      <td>0</td>\n",
              "      <td>1</td>\n",
              "      <td>1</td>\n",
              "      <td>...</td>\n",
              "      <td>0</td>\n",
              "      <td>0</td>\n",
              "      <td>0</td>\n",
              "      <td>1</td>\n",
              "      <td>0</td>\n",
              "      <td>0</td>\n",
              "      <td>0</td>\n",
              "      <td>0</td>\n",
              "      <td>0</td>\n",
              "      <td>0</td>\n",
              "    </tr>\n",
              "  </tbody>\n",
              "</table>\n",
              "<p>401085 rows × 47 columns</p>\n",
              "</div>"
            ],
            "text/plain": [
              "        user_id  conversion  test  age  date_2015-11-30 00:00:00  date_2015-12-01 00:00:00  date_2015-12-02 00:00:00  date_2015-12-03 00:00:00  date_2015-12-04 00:00:00  source_Ads  ...  country_El Salvador  country_Guatemala  country_Honduras  country_Mexico  country_Nicaragua  country_Panama  country_Paraguay  country_Peru  country_Uruguay  \\\n",
              "1        497851           0     1   21                         0                         0                         0                         0                         1           1  ...                    0                  0                 0               1                  0               0                 0             0                0   \n",
              "3        290051           0     1   22                         0                         0                         0                         1                         0           1  ...                    0                  0                 0               1                  0               0                 0             0                0   \n",
              "4        548435           0     1   19                         1                         0                         0                         0                         0           1  ...                    0                  0                 0               1                  0               0                 0             0                0   \n",
              "5        540675           0     1   22                         0                         0                         0                         1                         0           0  ...                    0                  0                 0               0                  0               0                 0             0                0   \n",
              "6        863394           0     0   35                         0                         0                         0                         0                         1           0  ...                    0                  0                 0               1                  0               0                 0             0                0   \n",
              "...         ...         ...   ...  ...                       ...                       ...                       ...                       ...                       ...         ...  ...                  ...                ...               ...             ...                ...             ...               ...           ...              ...   \n",
              "452861   783089           0     0   20                         0                         0                         1                         0                         0           1  ...                    0                  0                 0               1                  0               0                 0             0                0   \n",
              "452862   425010           0     0   50                         0                         0                         0                         0                         1           0  ...                    0                  0                 0               1                  0               0                 0             0                0   \n",
              "452863   826793           0     1   20                         0                         1                         0                         0                         0           0  ...                    0                  0                 0               0                  0               0                 0             0                0   \n",
              "452865   785224           0     1   21                         0                         0                         0                         0                         1           0  ...                    0                  0                 0               0                  0               0                 0             0                0   \n",
              "452866   241662           0     1   27                         0                         0                         0                         0                         1           1  ...                    0                  0                 0               1                  0               0                 0             0                0   \n",
              "\n",
              "        country_Venezuela  \n",
              "1                       0  \n",
              "3                       0  \n",
              "4                       0  \n",
              "5                       1  \n",
              "6                       0  \n",
              "...                   ...  \n",
              "452861                  0  \n",
              "452862                  0  \n",
              "452863                  0  \n",
              "452865                  0  \n",
              "452866                  0  \n",
              "\n",
              "[401085 rows x 47 columns]"
            ]
          },
          "metadata": {
            "tags": []
          },
          "execution_count": 16
        },
        {
          "output_type": "execute_result",
          "data": {
            "text/html": [
              "<div>\n",
              "<style scoped>\n",
              "    .dataframe tbody tr th:only-of-type {\n",
              "        vertical-align: middle;\n",
              "    }\n",
              "\n",
              "    .dataframe tbody tr th {\n",
              "        vertical-align: top;\n",
              "    }\n",
              "\n",
              "    .dataframe thead th {\n",
              "        text-align: right;\n",
              "    }\n",
              "</style>\n",
              "<table border=\"1\" class=\"dataframe\">\n",
              "  <thead>\n",
              "    <tr style=\"text-align: right;\">\n",
              "      <th></th>\n",
              "      <th>user_id</th>\n",
              "      <th>age</th>\n",
              "      <th>date_2015-11-30 00:00:00</th>\n",
              "      <th>date_2015-12-01 00:00:00</th>\n",
              "      <th>date_2015-12-02 00:00:00</th>\n",
              "      <th>date_2015-12-03 00:00:00</th>\n",
              "      <th>date_2015-12-04 00:00:00</th>\n",
              "      <th>source_Ads</th>\n",
              "      <th>source_Direct</th>\n",
              "      <th>source_SEO</th>\n",
              "      <th>...</th>\n",
              "      <th>country_El Salvador</th>\n",
              "      <th>country_Guatemala</th>\n",
              "      <th>country_Honduras</th>\n",
              "      <th>country_Mexico</th>\n",
              "      <th>country_Nicaragua</th>\n",
              "      <th>country_Panama</th>\n",
              "      <th>country_Paraguay</th>\n",
              "      <th>country_Peru</th>\n",
              "      <th>country_Uruguay</th>\n",
              "      <th>country_Venezuela</th>\n",
              "    </tr>\n",
              "  </thead>\n",
              "  <tbody>\n",
              "    <tr>\n",
              "      <td>1</td>\n",
              "      <td>497851</td>\n",
              "      <td>21</td>\n",
              "      <td>0</td>\n",
              "      <td>0</td>\n",
              "      <td>0</td>\n",
              "      <td>0</td>\n",
              "      <td>1</td>\n",
              "      <td>1</td>\n",
              "      <td>0</td>\n",
              "      <td>0</td>\n",
              "      <td>...</td>\n",
              "      <td>0</td>\n",
              "      <td>0</td>\n",
              "      <td>0</td>\n",
              "      <td>1</td>\n",
              "      <td>0</td>\n",
              "      <td>0</td>\n",
              "      <td>0</td>\n",
              "      <td>0</td>\n",
              "      <td>0</td>\n",
              "      <td>0</td>\n",
              "    </tr>\n",
              "    <tr>\n",
              "      <td>3</td>\n",
              "      <td>290051</td>\n",
              "      <td>22</td>\n",
              "      <td>0</td>\n",
              "      <td>0</td>\n",
              "      <td>0</td>\n",
              "      <td>1</td>\n",
              "      <td>0</td>\n",
              "      <td>1</td>\n",
              "      <td>0</td>\n",
              "      <td>0</td>\n",
              "      <td>...</td>\n",
              "      <td>0</td>\n",
              "      <td>0</td>\n",
              "      <td>0</td>\n",
              "      <td>1</td>\n",
              "      <td>0</td>\n",
              "      <td>0</td>\n",
              "      <td>0</td>\n",
              "      <td>0</td>\n",
              "      <td>0</td>\n",
              "      <td>0</td>\n",
              "    </tr>\n",
              "    <tr>\n",
              "      <td>4</td>\n",
              "      <td>548435</td>\n",
              "      <td>19</td>\n",
              "      <td>1</td>\n",
              "      <td>0</td>\n",
              "      <td>0</td>\n",
              "      <td>0</td>\n",
              "      <td>0</td>\n",
              "      <td>1</td>\n",
              "      <td>0</td>\n",
              "      <td>0</td>\n",
              "      <td>...</td>\n",
              "      <td>0</td>\n",
              "      <td>0</td>\n",
              "      <td>0</td>\n",
              "      <td>1</td>\n",
              "      <td>0</td>\n",
              "      <td>0</td>\n",
              "      <td>0</td>\n",
              "      <td>0</td>\n",
              "      <td>0</td>\n",
              "      <td>0</td>\n",
              "    </tr>\n",
              "    <tr>\n",
              "      <td>5</td>\n",
              "      <td>540675</td>\n",
              "      <td>22</td>\n",
              "      <td>0</td>\n",
              "      <td>0</td>\n",
              "      <td>0</td>\n",
              "      <td>1</td>\n",
              "      <td>0</td>\n",
              "      <td>0</td>\n",
              "      <td>1</td>\n",
              "      <td>0</td>\n",
              "      <td>...</td>\n",
              "      <td>0</td>\n",
              "      <td>0</td>\n",
              "      <td>0</td>\n",
              "      <td>0</td>\n",
              "      <td>0</td>\n",
              "      <td>0</td>\n",
              "      <td>0</td>\n",
              "      <td>0</td>\n",
              "      <td>0</td>\n",
              "      <td>1</td>\n",
              "    </tr>\n",
              "    <tr>\n",
              "      <td>6</td>\n",
              "      <td>863394</td>\n",
              "      <td>35</td>\n",
              "      <td>0</td>\n",
              "      <td>0</td>\n",
              "      <td>0</td>\n",
              "      <td>0</td>\n",
              "      <td>1</td>\n",
              "      <td>0</td>\n",
              "      <td>0</td>\n",
              "      <td>1</td>\n",
              "      <td>...</td>\n",
              "      <td>0</td>\n",
              "      <td>0</td>\n",
              "      <td>0</td>\n",
              "      <td>1</td>\n",
              "      <td>0</td>\n",
              "      <td>0</td>\n",
              "      <td>0</td>\n",
              "      <td>0</td>\n",
              "      <td>0</td>\n",
              "      <td>0</td>\n",
              "    </tr>\n",
              "    <tr>\n",
              "      <td>...</td>\n",
              "      <td>...</td>\n",
              "      <td>...</td>\n",
              "      <td>...</td>\n",
              "      <td>...</td>\n",
              "      <td>...</td>\n",
              "      <td>...</td>\n",
              "      <td>...</td>\n",
              "      <td>...</td>\n",
              "      <td>...</td>\n",
              "      <td>...</td>\n",
              "      <td>...</td>\n",
              "      <td>...</td>\n",
              "      <td>...</td>\n",
              "      <td>...</td>\n",
              "      <td>...</td>\n",
              "      <td>...</td>\n",
              "      <td>...</td>\n",
              "      <td>...</td>\n",
              "      <td>...</td>\n",
              "      <td>...</td>\n",
              "      <td>...</td>\n",
              "    </tr>\n",
              "    <tr>\n",
              "      <td>452861</td>\n",
              "      <td>783089</td>\n",
              "      <td>20</td>\n",
              "      <td>0</td>\n",
              "      <td>0</td>\n",
              "      <td>1</td>\n",
              "      <td>0</td>\n",
              "      <td>0</td>\n",
              "      <td>1</td>\n",
              "      <td>0</td>\n",
              "      <td>0</td>\n",
              "      <td>...</td>\n",
              "      <td>0</td>\n",
              "      <td>0</td>\n",
              "      <td>0</td>\n",
              "      <td>1</td>\n",
              "      <td>0</td>\n",
              "      <td>0</td>\n",
              "      <td>0</td>\n",
              "      <td>0</td>\n",
              "      <td>0</td>\n",
              "      <td>0</td>\n",
              "    </tr>\n",
              "    <tr>\n",
              "      <td>452862</td>\n",
              "      <td>425010</td>\n",
              "      <td>50</td>\n",
              "      <td>0</td>\n",
              "      <td>0</td>\n",
              "      <td>0</td>\n",
              "      <td>0</td>\n",
              "      <td>1</td>\n",
              "      <td>0</td>\n",
              "      <td>0</td>\n",
              "      <td>1</td>\n",
              "      <td>...</td>\n",
              "      <td>0</td>\n",
              "      <td>0</td>\n",
              "      <td>0</td>\n",
              "      <td>1</td>\n",
              "      <td>0</td>\n",
              "      <td>0</td>\n",
              "      <td>0</td>\n",
              "      <td>0</td>\n",
              "      <td>0</td>\n",
              "      <td>0</td>\n",
              "    </tr>\n",
              "    <tr>\n",
              "      <td>452863</td>\n",
              "      <td>826793</td>\n",
              "      <td>20</td>\n",
              "      <td>0</td>\n",
              "      <td>1</td>\n",
              "      <td>0</td>\n",
              "      <td>0</td>\n",
              "      <td>0</td>\n",
              "      <td>0</td>\n",
              "      <td>0</td>\n",
              "      <td>1</td>\n",
              "      <td>...</td>\n",
              "      <td>0</td>\n",
              "      <td>0</td>\n",
              "      <td>0</td>\n",
              "      <td>0</td>\n",
              "      <td>0</td>\n",
              "      <td>0</td>\n",
              "      <td>0</td>\n",
              "      <td>0</td>\n",
              "      <td>0</td>\n",
              "      <td>0</td>\n",
              "    </tr>\n",
              "    <tr>\n",
              "      <td>452865</td>\n",
              "      <td>785224</td>\n",
              "      <td>21</td>\n",
              "      <td>0</td>\n",
              "      <td>0</td>\n",
              "      <td>0</td>\n",
              "      <td>0</td>\n",
              "      <td>1</td>\n",
              "      <td>0</td>\n",
              "      <td>0</td>\n",
              "      <td>1</td>\n",
              "      <td>...</td>\n",
              "      <td>0</td>\n",
              "      <td>0</td>\n",
              "      <td>0</td>\n",
              "      <td>0</td>\n",
              "      <td>0</td>\n",
              "      <td>0</td>\n",
              "      <td>0</td>\n",
              "      <td>0</td>\n",
              "      <td>0</td>\n",
              "      <td>0</td>\n",
              "    </tr>\n",
              "    <tr>\n",
              "      <td>452866</td>\n",
              "      <td>241662</td>\n",
              "      <td>27</td>\n",
              "      <td>0</td>\n",
              "      <td>0</td>\n",
              "      <td>0</td>\n",
              "      <td>0</td>\n",
              "      <td>1</td>\n",
              "      <td>1</td>\n",
              "      <td>0</td>\n",
              "      <td>0</td>\n",
              "      <td>...</td>\n",
              "      <td>0</td>\n",
              "      <td>0</td>\n",
              "      <td>0</td>\n",
              "      <td>1</td>\n",
              "      <td>0</td>\n",
              "      <td>0</td>\n",
              "      <td>0</td>\n",
              "      <td>0</td>\n",
              "      <td>0</td>\n",
              "      <td>0</td>\n",
              "    </tr>\n",
              "  </tbody>\n",
              "</table>\n",
              "<p>401085 rows × 45 columns</p>\n",
              "</div>"
            ],
            "text/plain": [
              "        user_id  age  date_2015-11-30 00:00:00  date_2015-12-01 00:00:00  date_2015-12-02 00:00:00  date_2015-12-03 00:00:00  date_2015-12-04 00:00:00  source_Ads  source_Direct  source_SEO  ...  country_El Salvador  country_Guatemala  country_Honduras  country_Mexico  country_Nicaragua  country_Panama  country_Paraguay  country_Peru  \\\n",
              "1        497851   21                         0                         0                         0                         0                         1           1              0           0  ...                    0                  0                 0               1                  0               0                 0             0   \n",
              "3        290051   22                         0                         0                         0                         1                         0           1              0           0  ...                    0                  0                 0               1                  0               0                 0             0   \n",
              "4        548435   19                         1                         0                         0                         0                         0           1              0           0  ...                    0                  0                 0               1                  0               0                 0             0   \n",
              "5        540675   22                         0                         0                         0                         1                         0           0              1           0  ...                    0                  0                 0               0                  0               0                 0             0   \n",
              "6        863394   35                         0                         0                         0                         0                         1           0              0           1  ...                    0                  0                 0               1                  0               0                 0             0   \n",
              "...         ...  ...                       ...                       ...                       ...                       ...                       ...         ...            ...         ...  ...                  ...                ...               ...             ...                ...             ...               ...           ...   \n",
              "452861   783089   20                         0                         0                         1                         0                         0           1              0           0  ...                    0                  0                 0               1                  0               0                 0             0   \n",
              "452862   425010   50                         0                         0                         0                         0                         1           0              0           1  ...                    0                  0                 0               1                  0               0                 0             0   \n",
              "452863   826793   20                         0                         1                         0                         0                         0           0              0           1  ...                    0                  0                 0               0                  0               0                 0             0   \n",
              "452865   785224   21                         0                         0                         0                         0                         1           0              0           1  ...                    0                  0                 0               0                  0               0                 0             0   \n",
              "452866   241662   27                         0                         0                         0                         0                         1           1              0           0  ...                    0                  0                 0               1                  0               0                 0             0   \n",
              "\n",
              "        country_Uruguay  country_Venezuela  \n",
              "1                     0                  0  \n",
              "3                     0                  0  \n",
              "4                     0                  0  \n",
              "5                     0                  1  \n",
              "6                     0                  0  \n",
              "...                 ...                ...  \n",
              "452861                0                  0  \n",
              "452862                0                  0  \n",
              "452863                0                  0  \n",
              "452865                0                  0  \n",
              "452866                0                  0  \n",
              "\n",
              "[401085 rows x 45 columns]"
            ]
          },
          "metadata": {
            "tags": []
          },
          "execution_count": 16
        }
      ]
    },
    {
      "cell_type": "code",
      "metadata": {
        "id": "jHtJXwI8Q59Q",
        "outputId": "fa80c71a-1e11-4b53-fd52-99bf46aa22c3"
      },
      "source": [
        "dtclf = DecisionTreeClassifier(\n",
        "    # 指定样本各类别的的权重，主要是为了防止训练集某些类别的样本过多导致训练的决策树过于偏向这些类别。这里可以自己指定各个样本的权重，如果使用“balanced”，则算法会自己计算权重，样本量少的类别所对应的样本权重会高。\n",
        "    class_weight='balanced',\n",
        "    # 这个值限制了决策树的增长，如果某节点的不纯度(基尼系数，信息增益，均方差，绝对差)小于这个阈值则该节点不再生成子节点。即为叶子节点 。\n",
        "    min_impurity_decrease = 0.001\n",
        "    )\n",
        "dtclf.fit(train_cols, data_dummy['test'])"
      ],
      "execution_count": null,
      "outputs": [
        {
          "output_type": "execute_result",
          "data": {
            "text/plain": [
              "DecisionTreeClassifier(class_weight='balanced', criterion='gini',\n",
              "                       max_depth=None, max_features=None, max_leaf_nodes=None,\n",
              "                       min_impurity_decrease=0.001, min_impurity_split=None,\n",
              "                       min_samples_leaf=1, min_samples_split=2,\n",
              "                       min_weight_fraction_leaf=0.0, presort=False,\n",
              "                       random_state=None, splitter='best')"
            ]
          },
          "metadata": {
            "tags": []
          },
          "execution_count": 17
        }
      ]
    },
    {
      "cell_type": "code",
      "metadata": {
        "id": "op-A4MsAQ59R",
        "outputId": "d15f243f-df88-4c83-b37d-e85d1c8ea252"
      },
      "source": [
        "export_graphviz(dtclf, out_file = 'tree_test.dot', feature_names = train_cols.columns, proportion = True, rotate = True)\n",
        "with open('tree_test.dot') as f:\n",
        "    dot_graph = f.read()\n",
        "\n",
        "s = Source.from_file('tree_test.dot')\n",
        "s.view()"
      ],
      "execution_count": null,
      "outputs": [
        {
          "output_type": "execute_result",
          "data": {
            "text/plain": [
              "'tree_test.dot.pdf'"
            ]
          },
          "metadata": {
            "tags": []
          },
          "execution_count": 18
        }
      ]
    },
    {
      "cell_type": "markdown",
      "metadata": {
        "id": "gC6HlxXhQ59R"
      },
      "source": [
        "We can see that the distributions of treatment and control are not the same. When country_Argentina = 1, it shows percentage of users in control is 23% (1-87.3%*88.3%), percentage of users in treatment is 77% (87.3%*88.3%). For Uruguay, control : treatment = 12.7% : 87.3%."
      ]
    },
    {
      "cell_type": "code",
      "metadata": {
        "id": "LUuLMaytQ59R",
        "outputId": "07d6efbb-3fbb-4560-93c4-d94c53dc13a5"
      },
      "source": [
        "# We doule check the user proportion in Argentina and Uruguay\n",
        "data_dummy.groupby('test')[['country_Argentina', 'country_Uruguay']].mean()"
      ],
      "execution_count": null,
      "outputs": [
        {
          "output_type": "execute_result",
          "data": {
            "text/html": [
              "<div>\n",
              "<style scoped>\n",
              "    .dataframe tbody tr th:only-of-type {\n",
              "        vertical-align: middle;\n",
              "    }\n",
              "\n",
              "    .dataframe tbody tr th {\n",
              "        vertical-align: top;\n",
              "    }\n",
              "\n",
              "    .dataframe thead th {\n",
              "        text-align: right;\n",
              "    }\n",
              "</style>\n",
              "<table border=\"1\" class=\"dataframe\">\n",
              "  <thead>\n",
              "    <tr style=\"text-align: right;\">\n",
              "      <th></th>\n",
              "      <th>country_Argentina</th>\n",
              "      <th>country_Uruguay</th>\n",
              "    </tr>\n",
              "    <tr>\n",
              "      <th>test</th>\n",
              "      <th></th>\n",
              "      <th></th>\n",
              "    </tr>\n",
              "  </thead>\n",
              "  <tbody>\n",
              "    <tr>\n",
              "      <td>0</td>\n",
              "      <td>0.050488</td>\n",
              "      <td>0.002239</td>\n",
              "    </tr>\n",
              "    <tr>\n",
              "      <td>1</td>\n",
              "      <td>0.173223</td>\n",
              "      <td>0.017236</td>\n",
              "    </tr>\n",
              "  </tbody>\n",
              "</table>\n",
              "</div>"
            ],
            "text/plain": [
              "      country_Argentina  country_Uruguay\n",
              "test                                    \n",
              "0              0.050488         0.002239\n",
              "1              0.173223         0.017236"
            ]
          },
          "metadata": {
            "tags": []
          },
          "execution_count": 20
        }
      ]
    },
    {
      "cell_type": "markdown",
      "metadata": {
        "id": "tlBgamf5Q59R"
      },
      "source": [
        "The decision tree is right. For Argentina, treatment : control = 17% : 5%, for Uruguay, treatment : control = 1.7% : 0.2%. This is the problem, which means the significant difference in conversion rate due to the difference of these two groups."
      ]
    },
    {
      "cell_type": "code",
      "metadata": {
        "id": "Vh8lYtj8Q59R",
        "outputId": "6d51725a-221e-49b5-a126-de9b7f8b6957"
      },
      "source": [
        "# Prove\n",
        "\n",
        "# Use original dataset\n",
        "original_data = stats.ttest_ind(data_dummy[mydata['test'] == 1]['conversion'],\n",
        "                                data_dummy[mydata['test'] == 0]['conversion'],\n",
        "                                equal_var = False)\n",
        "\n",
        "# Use dataset without Argentina and Uruguay\n",
        "removed_data = stats.ttest_ind(data_dummy[(mydata['test'] == 1) &\n",
        "                                          (data_dummy['country_Argentina'] == 0) &\n",
        "                                          (data_dummy['country_Uruguay'] == 0)\n",
        "                                         ]['conversion'],\n",
        "                               data_dummy[(mydata['test'] == 0) &\n",
        "                                          (data_dummy['country_Argentina'] == 0) &\n",
        "                                          (data_dummy['country_Uruguay'] == 0)\n",
        "                                         ]['conversion'],\n",
        "                               equal_var = False)\n",
        "\n",
        "print(pd.DataFrame({'data_type' : ['original', 'removed'],\n",
        "                    'p_value' : [original_data.pvalue, removed_data.pvalue],\n",
        "                    't_stat': [original_data.statistic, removed_data.statistic]}))"
      ],
      "execution_count": null,
      "outputs": [
        {
          "output_type": "stream",
          "text": [
            "  data_type       p_value    t_stat\n",
            "0  original  1.928918e-13 -7.353895\n",
            "1   removed  7.200849e-01  0.358346\n"
          ],
          "name": "stdout"
        }
      ]
    },
    {
      "cell_type": "markdown",
      "metadata": {
        "id": "uzdLEmDlQ59S"
      },
      "source": [
        "The difference is significant. After we removed these two countries, we got result that is not significant. Even though our target is to improve conversion rate, and this is not a big success, but at least we know that localized translation won't make conversion rate become worse."
      ]
    },
    {
      "cell_type": "markdown",
      "metadata": {
        "id": "4Nige2J8Q59S"
      },
      "source": [
        "## Project Suggestions\n",
        "1. Talk to the enginner who is responsible for randomization, find out what's the problem, and fix it to run the test again.\n",
        "2. If you find everthing is fine other than these two countries, you can adjust the weight of these two countries."
      ]
    }
  ]
}